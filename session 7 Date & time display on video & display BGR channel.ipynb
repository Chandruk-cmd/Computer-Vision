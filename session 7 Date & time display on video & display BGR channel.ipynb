{
 "cells": [
  {
   "cell_type": "code",
   "execution_count": 3,
   "metadata": {},
   "outputs": [
    {
     "name": "stdout",
     "output_type": "stream",
     "text": [
      "640.0\n",
      "480.0\n",
      "True\n"
     ]
    }
   ],
   "source": [
    "#print the current date and time on default camera screen\n",
    "import cv2\n",
    "import datetime\n",
    "vcap = cv2.VideoCapture(0)\n",
    "print(vcap.get(cv2.CAP_PROP_FRAME_WIDTH)) #3\n",
    "print(vcap.get(cv2.CAP_PROP_FRAME_HEIGHT)) #4\n",
    "#vcap.set(3, 1200)\n",
    "#vcap.set(4, 720)\n",
    "\n",
    "#print(vcap.get(3))\n",
    "#print(vcap.get(4))\n",
    "\n",
    "print(vcap.isOpened())\n",
    "while(vcap.isOpened()):\n",
    " ret, frame = vcap.read()\n",
    " if ret ==True:\n",
    "    font = cv2.FONT_HERSHEY_SIMPLEX\n",
    " #text = 'Width: '+ str(vcap.get(3))+ ' ' + 'Height: ' + str(vcap.get(4))\n",
    "    datet = str(datetime.datetime.now())\n",
    "    frame = cv2.putText(frame,datet, (2,50), font, 0.5,(0,255,255), 1, cv2.LINE_AA )\n",
    "    cv2.imshow('frame', frame)\n",
    "\n",
    " if cv2.waitKey(10) & 0Xff ==ord('q'): # if we increase the waitkey parameter video will get delayed\n",
    "     break\n",
    "vcap.release()\n",
    "cv2.destroyAllWindows()\n"
   ]
  },
  {
   "cell_type": "code",
   "execution_count": 4,
   "metadata": {},
   "outputs": [
    {
     "name": "stdout",
     "output_type": "stream",
     "text": [
      "266 ,  29\n",
      "519 ,  425\n",
      "108 ,  285\n",
      "26 ,  276\n",
      "375 ,  432\n",
      "259 ,  452\n"
     ]
    }
   ],
   "source": [
    "#mouse click event (display BGR Channel) - Assignment\n",
    "import numpy as np\n",
    "import cv2\n",
    "def click_event(event,x, y, flag, param):\n",
    "    if event == cv2.EVENT_LBUTTONDOWN:\n",
    "        print(x, ', ', y)\n",
    "        font = cv2.FONT_HERSHEY_SIMPLEX\n",
    "        strXY = str(x)+ ','+ str(y)\n",
    "        cv2.putText(img,strXY,(x,y), font,0.5,(255,255,0), 2)\n",
    "        cv2.imshow('image', img)\n",
    "\n",
    "    if event ==cv2.EVENT_RBUTTONDOWN:\n",
    "        blue = img[x,y,0]\n",
    "        green = img[x,y,1]\n",
    "        red = img[x,y,2]\n",
    "        font = cv2.FONT_HERSHEY_SIMPLEX\n",
    "        strBGR = str(blue)+ ','+ str(green)+ ','+ str(red)\n",
    "        cv2.putText(img,strBGR,(x,y), font,0.5,(255,255,255), 2)\n",
    "        cv2.imshow('image', img)\n",
    "\n",
    "img = cv2.imread('2.jpg')\n",
    "\n",
    "cv2.imshow('image', img)\n",
    "cv2.setMouseCallback('image', click_event)\n",
    "cv2.waitKey(0)\n",
    "cv2.destroyAllWindows()"
   ]
  },
  {
   "cell_type": "code",
   "execution_count": 11,
   "metadata": {},
   "outputs": [
    {
     "name": "stdout",
     "output_type": "stream",
     "text": [
      "[[[229 229 229]\n",
      "  [229 229 229]\n",
      "  [229 229 229]\n",
      "  ...\n",
      "  [238 238 238]\n",
      "  [242 242 242]\n",
      "  [242 242 242]]\n",
      "\n",
      " [[ 71  71  71]\n",
      "  [ 71  71  71]\n",
      "  [ 71  71  71]\n",
      "  ...\n",
      "  [ 69  69  69]\n",
      "  [235 235 235]\n",
      "  [239 239 239]]\n",
      "\n",
      " [[ 70  70  70]\n",
      "  [ 70  70  70]\n",
      "  [ 71  71  71]\n",
      "  ...\n",
      "  [ 66  66  66]\n",
      "  [232 232 232]\n",
      "  [237 237 237]]\n",
      "\n",
      " ...\n",
      "\n",
      " [[ 66  66  66]\n",
      "  [ 68  68  68]\n",
      "  [ 67  67  67]\n",
      "  ...\n",
      "  [ 69  69  69]\n",
      "  [ 67  67  67]\n",
      "  [208 208 208]]\n",
      "\n",
      " [[ 67  67  67]\n",
      "  [ 68  68  68]\n",
      "  [ 68  68  68]\n",
      "  ...\n",
      "  [ 69  69  69]\n",
      "  [ 67  67  67]\n",
      "  [208 208 208]]\n",
      "\n",
      " [[ 67  67  67]\n",
      "  [ 69  69  69]\n",
      "  [ 68  68  68]\n",
      "  ...\n",
      "  [ 68  68  68]\n",
      "  [ 67  67  67]\n",
      "  [208 208 208]]]\n"
     ]
    }
   ],
   "source": [
    "import numpy as np\n",
    "import cv2\n",
    "img = cv2.imread('2.jpg',1)\n",
    "\n",
    "print(img)"
   ]
  },
  {
   "cell_type": "code",
   "execution_count": 12,
   "metadata": {},
   "outputs": [
    {
     "name": "stdout",
     "output_type": "stream",
     "text": [
      "3\n"
     ]
    }
   ],
   "source": [
    "print(img.ndim)"
   ]
  },
  {
   "cell_type": "code",
   "execution_count": 14,
   "metadata": {},
   "outputs": [],
   "source": [
    "import numpy as np\n",
    "from skimage import data, io\n",
    "import matplotlib.pyplot as plt"
   ]
  },
  {
   "cell_type": "code",
   "execution_count": 15,
   "metadata": {},
   "outputs": [
    {
     "name": "stdout",
     "output_type": "stream",
     "text": [
      "(200, 200)\n"
     ]
    },
    {
     "data": {
      "text/plain": [
       "<matplotlib.image.AxesImage at 0x24da5088eb0>"
      ]
     },
     "execution_count": 15,
     "metadata": {},
     "output_type": "execute_result"
    },
    {
     "data": {
      "image/png": "[encoded data removed]",
      "text/plain": [
       "<Figure size 432x288 with 1 Axes>"
      ]
     },
     "metadata": {
      "needs_background": "light"
     },
     "output_type": "display_data"
    }
   ],
   "source": [
    "imag = data.checkerboard()\n",
    "print(imag.shape)\n",
    "plt.imshow(imag,cmap='gray')"
   ]
  },
  {
   "cell_type": "code",
   "execution_count": 17,
   "metadata": {},
   "outputs": [
    {
     "data": {
      "text/plain": [
       "<matplotlib.image.AxesImage at 0x24da6c8aeb0>"
      ]
     },
     "execution_count": 17,
     "metadata": {},
     "output_type": "execute_result"
    },
    {
     "data": {
      "image/png": "[encoded data removed]",
      "text/plain": [
       "<Figure size 432x288 with 1 Axes>"
      ]
     },
     "metadata": {
      "needs_background": "light"
     },
     "output_type": "display_data"
    }
   ],
   "source": [
    "\n",
    "from scipy.signal import convolve2d\n",
    "# the following kernel is designed to out horizontal edges\n",
    "kernel = np.array([[-1,-1,-1,-1],\n",
    "                  [1,1,1,1],\n",
    "                  [1,1,1,1],\n",
    "                  [-1,-1,-1,-1]])\n",
    "\n",
    "hor_edges = convolve2d(imag, kernel, mode = 'valid')\n",
    "plt.imshow(hor_edges,cmap='gray')"
   ]
  },
  {
   "cell_type": "code",
   "execution_count": 21,
   "metadata": {},
   "outputs": [
    {
     "data": {
      "text/plain": [
       "<matplotlib.image.AxesImage at 0x24da6dcd6a0>"
      ]
     },
     "execution_count": 21,
     "metadata": {},
     "output_type": "execute_result"
    },
    {
     "data": {
      "image/png": "[encoded data removed]",
      "text/plain": [
       "<Figure size 432x288 with 1 Axes>"
      ]
     },
     "metadata": {
      "needs_background": "light"
     },
     "output_type": "display_data"
    }
   ],
   "source": [
    "from scipy.signal import convolve2d\n",
    "# the following kernel is designed to out horizontal edges\n",
    "kernel = np.array([[-1,1,1,-1],\n",
    "                  [-1,-1,1,-1],\n",
    "                  [-1,1,-1,-1],\n",
    "                  [-1,1,1,-1]])\n",
    "\n",
    "hor_edges = convolve2d(imag, kernel, mode = 'valid')\n",
    "plt.imshow(hor_edges,cmap='gray')"
   ]
  },
  {
   "cell_type": "code",
   "execution_count": null,
   "metadata": {},
   "outputs": [],
   "source": []
  }
 ],
 "metadata": {
  "kernelspec": {
   "display_name": "Python 3",
   "language": "python",
   "name": "python3"
  },
  "language_info": {
   "codemirror_mode": {
    "name": "ipython",
    "version": 3
   },
   "file_extension": ".py",
   "mimetype": "text/x-python",
   "name": "python",
   "nbconvert_exporter": "python",
   "pygments_lexer": "ipython3",
   "version": "3.8.3"
  }
 },
 "nbformat": 4,
 "nbformat_minor": 4
}
