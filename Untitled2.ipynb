{
 "cells": [
  {
   "cell_type": "code",
   "execution_count": 1,
   "metadata": {},
   "outputs": [],
   "source": [
    "#virtual paint\n",
    "#read webcam\n",
    "\n",
    "import cv2\n",
    "frameWidth = 640\n",
    "frameHeight = 480\n",
    "vcap = cv2.VideoCapture(0)\n",
    "vcap.set(3, frameWidth)\n",
    "vcap.set(4, frameHeight)\n",
    "\n",
    "myColors =[[5, 107,0,19,255,255],\n",
    "          [133,56,0,159,156,255],\n",
    "          [57,76,0,100,255,255]]\n",
    "\n",
    "\n",
    "\n",
    "\n",
    "def findColor(img,myColors):\n",
    "    imgHSV = cv2.cvtColor(img, cv2.COLOR_BGR2HSV)\n",
    "    for color in myColors:\n",
    "        lower = np.array(color[0][0:3])\n",
    "        upper = np.array(color[0][3:6])\n",
    "        mask = cv2.inRange(imgHSV, lower, upper)\n",
    "        cv2.imshow(\"img\", mask)\n",
    "while True:\n",
    "    success, img = vcap.read()\n",
    "    cv2.imshow(\"Result\", img)\n",
    "    if cv2.waitKey(1) & 0xFF == ord('q'):\n",
    "        break"
   ]
  },
  {
   "cell_type": "code",
   "execution_count": null,
   "metadata": {},
   "outputs": [],
   "source": [
    "#to find our colour\n"
   ]
  }
 ],
 "metadata": {
  "kernelspec": {
   "display_name": "Python 3",
   "language": "python",
   "name": "python3"
  },
  "language_info": {
   "codemirror_mode": {
    "name": "ipython",
    "version": 3
   },
   "file_extension": ".py",
   "mimetype": "text/x-python",
   "name": "python",
   "nbconvert_exporter": "python",
   "pygments_lexer": "ipython3",
   "version": "3.8.3"
  }
 },
 "nbformat": 4,
 "nbformat_minor": 4
}
