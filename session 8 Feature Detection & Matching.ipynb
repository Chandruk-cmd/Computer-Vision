{
 "cells": [
  {
   "cell_type": "code",
   "execution_count": 1,
   "metadata": {},
   "outputs": [],
   "source": [
    "import cv2\n",
    "import numpy as np\n"
   ]
  },
  {
   "cell_type": "code",
   "execution_count": 14,
   "metadata": {
    "scrolled": true
   },
   "outputs": [],
   "source": [
    "# Harris corner detection   - need to covernt the image to grayscale and convert to float32\n",
    "img = cv2.imread(\"bookimage.jpeg\")\n",
    "\n",
    "gray_img = cv2.cvtColor(img, cv2.COLOR_BGR2GRAY)\n",
    "gray_img = np.float32(gray_img)\n",
    "# cornerharris(src, blockSize (no. of neighbours), kernel size = )\n",
    "dst = cv2.cornerHarris(gray_img, blockSize = 2, ksize = 5, k = 0.04)\n",
    "# dilate to mark the corners (increases the white regions)\n",
    "dst = cv2.dilate(dst, None)\n",
    "img[dst>0.1 * dst.max()] = [0,255,0]\n",
    "\n",
    "cv2.imshow(\"harris_corner\",img)\n",
    "cv2.waitKey(0)\n",
    "cv2.destroyAllWindows()"
   ]
  },
  {
   "cell_type": "code",
   "execution_count": 9,
   "metadata": {},
   "outputs": [],
   "source": [
    "# SIFT (Scale-Invariant Feature Transform)\n",
    "img = cv2.imread(\"bookimage.jpeg\", 0)\n",
    "\n",
    "sift =cv2.xfeatures2d.SIFT_create()\n",
    "keypoints, descriptors = sift.detectAndCompute(img, None)\n",
    "#cv.drawKeypoints(image, keypoints, outImage, color, flags]\t)\n",
    "\n",
    "img = cv2.drawKeypoints(img, keypoints, None)\n",
    "\n",
    "cv2.imshow(\"Image2\", img)\n",
    "cv2.waitKey(0)\n",
    "cv2.destroyAllWindows()"
   ]
  },
  {
   "cell_type": "code",
   "execution_count": 23,
   "metadata": {},
   "outputs": [
    {
     "name": "stderr",
     "output_type": "stream",
     "text": [
      "<ipython-input-23-65cc9248891a>:13: DeprecationWarning: an integer is required (got type numpy.float32).  Implicit conversion to integers using __int__ is deprecated, and may be removed in a future version of Python.\n",
      "  cv2.circle(img, (x,y), 4, (0,255,0), -1)\n"
     ]
    }
   ],
   "source": [
    "# shi-Tomasi corner detection for tracking\n",
    "import cv2\n",
    "import numpy as np\n",
    "\n",
    "img = cv2.imread(\"bookimage.jpeg\")\n",
    "gray_img = cv2.cvtColor(img, cv2.COLOR_BGR2GRAY)\n",
    "\n",
    "corners = cv2.goodFeaturesToTrack(gray_img, maxCorners = 100, qualityLevel =0.02, minDistance = 10)\n",
    "gray_img = np.float32(corners)\n",
    "\n",
    "for item in corners:\n",
    "    x,y = item[0]\n",
    "    cv2.circle(img, (x,y), 4, (0,255,0), -1)\n",
    "\n",
    "cv2.imshow(\"good features\", img)\n",
    "cv2.waitKey(0)\n",
    "cv2.destroyAllWindows()"
   ]
  },
  {
   "cell_type": "code",
   "execution_count": 5,
   "metadata": {},
   "outputs": [],
   "source": [
    "#Fast algorithm for corner detection\n",
    "import cv2\n",
    "import numpy as np\n",
    "\n",
    "img = cv2.imread(\"bookimage.jpeg\")\n",
    "gray_img = cv2.cvtColor(img, cv2.COLOR_BGR2GRAY)\n",
    "\n",
    "fast = cv2.FastFeatureDetector_create()\n",
    "fast.setNonmaxSuppression(False)\n",
    "\n",
    "kp = fast.detect(gray_img, None)\n",
    "kp_img = cv2.drawKeypoints(img, kp, None, color = (0,255,0))\n",
    "\n",
    "\n",
    "cv2.imshow(\"fast\", kp_img)\n",
    "cv2.waitKey(0)\n",
    "cv2.destroyAllWindows()"
   ]
  },
  {
   "cell_type": "code",
   "execution_count": 25,
   "metadata": {},
   "outputs": [],
   "source": [
    "#ORB (Oriented FAST and Rotated Brief)\n",
    "import cv2\n",
    "import numpy as np\n",
    "\n",
    "img = cv2.imread(\"bookimage.jpeg\")\n",
    "gray_img = cv2.cvtColor(img, cv2.COLOR_BGR2GRAY)\n",
    "\n",
    "orb = cv2.ORB_create(nfeatures=1000)\n",
    "kp, des = orb.detectAndCompute(gray_img, None)\n",
    "\n",
    "\n",
    "kp_img = cv2.drawKeypoints(img, kp, None, color = (0,255,0))\n",
    "\n",
    "\n",
    "cv2.imshow(\"ORB\", kp_img)\n",
    "cv2.waitKey(0)\n",
    "cv2.destroyAllWindows()"
   ]
  },
  {
   "cell_type": "code",
   "execution_count": 26,
   "metadata": {},
   "outputs": [
    {
     "data": {
      "text/plain": [
       "-1"
      ]
     },
     "execution_count": 26,
     "metadata": {},
     "output_type": "execute_result"
    }
   ],
   "source": [
    "# feature matching\n",
    "import cv2\n",
    "import numpy as np\n",
    "from matplotlib import pyplot as plt\n",
    "\n",
    "img1 = cv2.imread('bookimage.jpeg', 0)   #original image\n",
    "img2 = cv2.imread('bookimage1.jpeg', 0)   # in scene\n",
    "\n",
    "# initilize orb\n",
    "orb = cv2.ORB_create()\n",
    "# find the keypoints and descriptors with ORB\n",
    "kp1, des1 = orb.detectAndCompute(img1, None)\n",
    "kp2, des2 = orb.detectAndCompute(img2, None)\n",
    "\n",
    "# matcher takes normType, which is set to cv2.NORM_L2 for SIFT and SURF, cv2.NORM_HAMMING for ORB, FAST and BRIEF\n",
    "bf = cv2.BFMatcher(cv2.NORM_HAMMING, crossCheck=True)\n",
    "# match descriptors\n",
    "matches = bf.match(des1, des2)\n",
    "#sort them in order of their distance\n",
    "matches = sorted(matches, key=lambda x: x.distance)\n",
    "# draw first 50 matches\n",
    "match_img = cv2.drawMatches(img1, kp1, img2, kp2, matches[:50], None)\n",
    "cv2.imshow('Matches', match_img)\n",
    "cv2.waitKey()"
   ]
  },
  {
   "cell_type": "code",
   "execution_count": null,
   "metadata": {},
   "outputs": [],
   "source": []
  }
 ],
 "metadata": {
  "kernelspec": {
   "display_name": "Python 3",
   "language": "python",
   "name": "python3"
  },
  "language_info": {
   "codemirror_mode": {
    "name": "ipython",
    "version": 3
   },
   "file_extension": ".py",
   "mimetype": "text/x-python",
   "name": "python",
   "nbconvert_exporter": "python",
   "pygments_lexer": "ipython3",
   "version": "3.8.3"
  }
 },
 "nbformat": 4,
 "nbformat_minor": 4
}
