{
 "cells": [
  {
   "cell_type": "code",
   "execution_count": 1,
   "metadata": {},
   "outputs": [],
   "source": [
    "import cv2\n",
    "import numpy as np\n",
    "widthImg = 480\n",
    "heightImg = 640\n",
    "nPlateCascade = cv2.CascadeClassifier(\"haarcascade_russian_plate_number.xml\")\n",
    "minArea = 500\n",
    "color = (255,0,255)\n",
    "vcap = cv2.VideoCapture(0)\n",
    "vcap.set(3,widthImg)\n",
    "vcap.set(4,heightImg)\n",
    "vcap.set(10,150)\n",
    "\n",
    "while True:\n",
    "    success, img = vcap.read()\n",
    "    imgGray = cv2.cvtColor(img, cv2.COLOR_BGR2GRAY)\n",
    "    numberPlates = nPlateCascade.detectMultiScale(imgGray, 1.1, 4)      # scale factor and minimum neighbours\n",
    "    for (x,y,w,h) in numberPlates:\n",
    "        area = w*h\n",
    "        if area>minArea:\n",
    "            cv2.rectangle (img, (x,y), (x+w, y+h), (255,0,0), 2)\n",
    "            cv2.putText(img,\"Number Plate\", (x,y-5),cv2.FONT_HERSHEY_COMPLEX, 1, color,2)\n",
    "            imgRoi =img[y:y+h,x:x+w]\n",
    "            cv2.imshow(\"ROI\", imgRoi )\n",
    "        \n",
    "    \n",
    "    cv2.imshow(\"Result\", img)\n",
    "    if cv2.waitKey(1) & 0xFF ==ord('q'):\n",
    "        break\n",
    " "
   ]
  },
  {
   "cell_type": "code",
   "execution_count": null,
   "metadata": {},
   "outputs": [],
   "source": []
  },
  {
   "cell_type": "code",
   "execution_count": null,
   "metadata": {},
   "outputs": [],
   "source": []
  }
 ],
 "metadata": {
  "kernelspec": {
   "display_name": "Python 3",
   "language": "python",
   "name": "python3"
  },
  "language_info": {
   "codemirror_mode": {
    "name": "ipython",
    "version": 3
   },
   "file_extension": ".py",
   "mimetype": "text/x-python",
   "name": "python",
   "nbconvert_exporter": "python",
   "pygments_lexer": "ipython3",
   "version": "3.8.3"
  }
 },
 "nbformat": 4,
 "nbformat_minor": 4
}
