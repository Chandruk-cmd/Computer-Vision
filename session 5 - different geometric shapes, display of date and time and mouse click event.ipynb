{
 "cells": [
  {
   "cell_type": "markdown",
   "metadata": {},
   "source": [
    "## Session 5 Computer vision - How to draw different geometric shapes using opencv"
   ]
  },
  {
   "cell_type": "code",
   "execution_count": 2,
   "metadata": {},
   "outputs": [],
   "source": [
    "# how to draw a line\n",
    "import numpy as np\n",
    "import cv2\n",
    "\n",
    "img = cv2.imread('2.jpg',1)\n",
    "\n",
    "cv2.imshow('original', img)\n",
    "\n",
    "cv2.waitKey(0)\n",
    "cv2.destroyAllWindows()"
   ]
  },
  {
   "cell_type": "code",
   "execution_count": 3,
   "metadata": {},
   "outputs": [],
   "source": [
    "# how to draw a line\n",
    "import numpy as np\n",
    "import cv2\n",
    "\n",
    "img = cv2.imread('2.jpg',1)\n",
    "img = cv2.line(img,(0,0), (255,255), (255,0,0), 10)    # line( filename, starting,ending coordinate, color(BGR), thickness)\n",
    "\n",
    "cv2.imshow('original', img)\n",
    "\n",
    "cv2.waitKey(0)\n",
    "cv2.destroyAllWindows()"
   ]
  },
  {
   "cell_type": "code",
   "execution_count": 3,
   "metadata": {},
   "outputs": [],
   "source": [
    "# how to draw a Arrowedline\n",
    "import numpy as np\n",
    "import cv2\n",
    "\n",
    "img = cv2.imread('2.jpg',1)\n",
    "img = cv2.arrowedLine(img,(0,0), (230,500), (255,100,180), 10)   # line( filename, starting,ending coordinate, color(BGR), thickness)\n",
    "\n",
    "cv2.imshow('original', img)\n",
    "\n",
    "cv2.waitKey(0)\n",
    "cv2.destroyAllWindows()"
   ]
  },
  {
   "cell_type": "code",
   "execution_count": 4,
   "metadata": {},
   "outputs": [],
   "source": [
    "# how to draw a rectange\n",
    "import numpy as np\n",
    "import cv2\n",
    "\n",
    "img = cv2.imread('2.jpg',1)\n",
    "img = cv2.rectangle(img,(400,0), (510,128), (100,100,180), 10)   # line( filename, starting,ending coordinate, color(BGR), thickness)\n",
    "\n",
    "cv2.imshow('original', img)\n",
    "\n",
    "cv2.waitKey(0)\n",
    "cv2.destroyAllWindows()"
   ]
  },
  {
   "cell_type": "code",
   "execution_count": null,
   "metadata": {},
   "outputs": [],
   "source": [
    "# how to draw a filledrectange\n",
    "import numpy as np\n",
    "import cv2\n",
    "\n",
    "img = cv2.imread('2.jpg',1)\n",
    "img = cv2.rectangle(img,(400,0), (510,128), (100,100,180), -1)   # line( filename, starting,ending coordinate, color(BGR), thickness)\n",
    "\n",
    "cv2.imshow('original', img)\n",
    "\n",
    "cv2.waitKey(0)\n",
    "cv2.destroyAllWindows()"
   ]
  },
  {
   "cell_type": "code",
   "execution_count": 5,
   "metadata": {},
   "outputs": [],
   "source": [
    "# how to draw a filledrectange\n",
    "import numpy as np\n",
    "import cv2\n",
    "\n",
    "img = cv2.imread('2.jpg',1)\n",
    "img = cv2.circle(img,(255,255), 75, (100,150,180), -1)   # line( filename,center,radius, color(BGR), thickness)\n",
    "\n",
    "cv2.imshow('original', img)\n",
    "\n",
    "cv2.waitKey(0)\n",
    "cv2.destroyAllWindows()"
   ]
  },
  {
   "cell_type": "code",
   "execution_count": null,
   "metadata": {},
   "outputs": [],
   "source": [
    "# to put text on a image\n",
    "import numpy as np\n",
    "import cv2\n",
    "\n",
    "img = cv2.imread('2.jpg',1)\n",
    "font = cv2.FONT_HERSHEY_SIMPLEX\n",
    "# puttext(filename, start, font,size of the font, color,thickness, linetype)\n",
    "img = cv2.putText(img, 'OpenCV',(0,500),font,5,(20,20,65),5, cv2.LINE_AA)  \n",
    "\n",
    "cv2.imshow('original', img)\n",
    "\n",
    "cv2.waitKey(0)\n",
    "cv2.destroyAllWindows()"
   ]
  },
  {
   "cell_type": "code",
   "execution_count": 6,
   "metadata": {},
   "outputs": [],
   "source": [
    "# CREATING AN IMAGE USING NUMPY ZEROS\n",
    "import numpy as np\n",
    "import cv2\n",
    "img = np.zeros([512,521,3], np.uint8)     # ([height, width, channel], type) it will create a black screen\n",
    "#img = cv2.imread('2.jpg',1)\n",
    "font = cv2.FONT_HERSHEY_SIMPLEX\n",
    "# puttext(filename, start, font,size of the font, color,thickness, linetype)\n",
    "img = cv2.putText(img, 'OpenCV',(0,400),font,3,(20,20,65),5, cv2.LINE_AA)  \n",
    "\n",
    "cv2.imshow('original', img)\n",
    "\n",
    "cv2.waitKey(0)\n",
    "cv2.destroyAllWindows() "
   ]
  },
  {
   "cell_type": "code",
   "execution_count": 4,
   "metadata": {},
   "outputs": [
    {
     "name": "stdout",
     "output_type": "stream",
     "text": [
      "640.0\n",
      "480.0\n",
      "352.0\n",
      "288.0\n",
      "True\n"
     ]
    }
   ],
   "source": [
    "#Changing frame size\n",
    "import cv2\n",
    "vcap = cv2.VideoCapture(0)\n",
    "print(vcap.get(cv2.CAP_PROP_FRAME_WIDTH))     #3    \n",
    "print(vcap.get(cv2.CAP_PROP_FRAME_HEIGHT))    #4\n",
    "\n",
    "vcap.set(3, 300)\n",
    "vcap.set(4, 300)\n",
    "      \n",
    "print(vcap.get(3))\n",
    "print(vcap.get(4))\n",
    "      \n",
    "print(vcap.isOpened())\n",
    "while(vcap.isOpened()):\n",
    "    ret, frame = vcap.read()\n",
    "    gray = cv2.cvtColor(frame, cv2.COLOR_BGR2GRAY)\n",
    "    cv2.imshow('frame', gray)\n",
    "    \n",
    "    if cv2.waitKey(10) & 0Xff ==ord('q'):     # if we increase the waitkey parameter video will get delayed\n",
    "        break\n",
    "\n",
    "vcap.release()\n",
    "cv2.destroyAllWindows()"
   ]
  },
  {
   "cell_type": "code",
   "execution_count": null,
   "metadata": {},
   "outputs": [
    {
     "name": "stdout",
     "output_type": "stream",
     "text": [
      "640.0\n",
      "480.0\n",
      "1280.0\n",
      "720.0\n",
      "True\n"
     ]
    }
   ],
   "source": [
    "#print the width and height value on default camera screen\n",
    "import cv2\n",
    "vcap = cv2.VideoCapture(0)\n",
    "print(vcap.get(cv2.CAP_PROP_FRAME_WIDTH))     #3    \n",
    "print(vcap.get(cv2.CAP_PROP_FRAME_HEIGHT))    #4\n",
    "\n",
    "vcap.set(3, 1200)\n",
    "vcap.set(4, 720)\n",
    "      \n",
    "print(vcap.get(3))\n",
    "print(vcap.get(4))\n",
    "      \n",
    "print(vcap.isOpened())\n",
    "while(vcap.isOpened()):\n",
    "    ret, frame = vcap.read()\n",
    "    if ret ==True:\n",
    "        font = cv2.FONT_HERSHEY_SIMPLEX\n",
    "        text = 'Width: '+ str(vcap.get(3))+ ' ' + 'Height: ' + str(vcap.get(4))\n",
    "        frame = cv2.putText(frame,text, (10,50), font, 1,(100,255,255), 1, cv2.LINE_AA )\n",
    "  \n",
    "    cv2.imshow('frame', frame)\n",
    "    \n",
    "    if cv2.waitKey(10) & 0Xff ==ord('q'):     # if we increase the waitkey parameter video will get delayed\n",
    "        break\n",
    "\n",
    "vcap.release()\n",
    "cv2.destroyAllWindows()"
   ]
  },
  {
   "cell_type": "code",
   "execution_count": null,
   "metadata": {},
   "outputs": [],
   "source": [
    "#print the current date and time on default camera screen\n",
    "import cv2\n",
    "import datetime\n",
    "vcap = cv2.VideoCapture(0)\n",
    "print(vcap.get(cv2.CAP_PROP_FRAME_WIDTH))     #3    \n",
    "print(vcap.get(cv2.CAP_PROP_FRAME_HEIGHT))    #4\n",
    "\n",
    "#vcap.set(3, 1200)\n",
    "#vcap.set(4, 720)\n",
    "      \n",
    "#print(vcap.get(3))\n",
    "#print(vcap.get(4))\n",
    "      \n",
    "print(vcap.isOpened())\n",
    "while(vcap.isOpened()):\n",
    "    ret, frame = vcap.read()\n",
    "    if ret ==True:\n",
    "        font = cv2.FONT_HERSHEY_SIMPLEX\n",
    "        #text = 'Width: '+ str(vcap.get(3))+ ' ' + 'Height: ' + str(vcap.get(4))\n",
    "        datet = str(datetime.datetime.now())\n",
    "        frame = cv2.putText(frame,datet, (2,50), font, 0.5,(0,255,255), 1, cv2.LINE_AA )\n",
    "  \n",
    "    cv2.imshow('frame', frame)\n",
    "    \n",
    "    if cv2.waitKey(10) & 0Xff ==ord('q'):     # if we increase the waitkey parameter video will get delayed\n",
    "        break\n",
    "\n",
    "vcap.release()\n",
    "cv2.destroyAllWindows()"
   ]
  },
  {
   "cell_type": "code",
   "execution_count": 8,
   "metadata": {},
   "outputs": [
    {
     "name": "stdout",
     "output_type": "stream",
     "text": [
      "['EVENT_FLAG_ALTKEY', 'EVENT_FLAG_CTRLKEY', 'EVENT_FLAG_LBUTTON', 'EVENT_FLAG_MBUTTON', 'EVENT_FLAG_RBUTTON', 'EVENT_FLAG_SHIFTKEY', 'EVENT_LBUTTONDBLCLK', 'EVENT_LBUTTONDOWN', 'EVENT_LBUTTONUP', 'EVENT_MBUTTONDBLCLK', 'EVENT_MBUTTONDOWN', 'EVENT_MBUTTONUP', 'EVENT_MOUSEHWHEEL', 'EVENT_MOUSEMOVE', 'EVENT_MOUSEWHEEL', 'EVENT_RBUTTONDBLCLK', 'EVENT_RBUTTONDOWN', 'EVENT_RBUTTONUP']\n"
     ]
    }
   ],
   "source": [
    "#mouse click event\n",
    "import numpy as np\n",
    "import cv2\n",
    "\n",
    "events = [i for i in dir(cv2) if 'EVENT' in i]\n",
    "print(events)"
   ]
  },
  {
   "cell_type": "code",
   "execution_count": 9,
   "metadata": {},
   "outputs": [
    {
     "name": "stdout",
     "output_type": "stream",
     "text": [
      "112 ,  179\n"
     ]
    }
   ],
   "source": [
    "#mouse click event\n",
    "import numpy as np\n",
    "import cv2\n",
    "\n",
    "def click_event(event,x, y, flag, param):\n",
    "    if event == cv2.EVENT_LBUTTONDOWN:\n",
    "        print(x, ', ', y)\n",
    "        font = cv2.FONT_HERSHEY_SIMPLEX\n",
    "        strXY = str(x)+ ','+ str(y)\n",
    "        cv2.putText(img,strXY,(x,y), font,0.5,(255,255,0), 2)\n",
    "        cv2.imshow('image', img)\n",
    "        \n",
    "img = np.zeros((512,512,3), np.uint8)\n",
    "cv2.imshow('image', img)\n",
    "\n",
    "cv2.setMouseCallback('image', click_event)\n",
    "\n",
    "cv2.waitKey(0)\n",
    "cv2.destroyAllWindows()\n",
    "\n"
   ]
  },
  {
   "cell_type": "code",
   "execution_count": 10,
   "metadata": {},
   "outputs": [
    {
     "name": "stdout",
     "output_type": "stream",
     "text": [
      "380 ,  416\n"
     ]
    }
   ],
   "source": [
    "#mouse click event (display BGR Channel) - Assignment\n",
    "import numpy as np\n",
    "import cv2\n",
    "\n",
    "def click_event(event,x, y, flag, param):\n",
    "    if event == cv2.EVENT_LBUTTONDOWN:\n",
    "        print(x, ', ', y)\n",
    "        font = cv2.FONT_HERSHEY_SIMPLEX\n",
    "        strXY = str(x)+ ','+ str(y)\n",
    "        cv2.putText(img,strXY,(x,y), font,0.5,(255,255,0), 2)\n",
    "        cv2.imshow('image', img)\n",
    "        \n",
    "    if event ==cv2.EVENT_RBUTTONDOWN:\n",
    "        blue = img[y,x,0]\n",
    "        green = img[y,x,1]\n",
    "        red = img[y,x,2]\n",
    "        font = cv2.FONT_HERSHEY_SIMPLEX\n",
    "        strBGR = str(blue)+ ','+ str(green)+ ','+ str(red)\n",
    "        cv2.putText(img,strBGR,(x,y), font,0.5,(255,255,255), 2)\n",
    "        cv2.imshow('image', img)\n",
    "img = cv2.imread('2.jpg')\n",
    "#img = np.zeros((512,512,3), np.uint8)\n",
    "cv2.imshow('image', img)\n",
    "\n",
    "cv2.setMouseCallback('image', click_event)\n",
    "\n",
    "cv2.waitKey(0)\n",
    "cv2.destroyAllWindows()"
   ]
  },
  {
   "cell_type": "code",
   "execution_count": null,
   "metadata": {},
   "outputs": [],
   "source": []
  }
 ],
 "metadata": {
  "kernelspec": {
   "display_name": "Python 3",
   "language": "python",
   "name": "python3"
  },
  "language_info": {
   "codemirror_mode": {
    "name": "ipython",
    "version": 3
   },
   "file_extension": ".py",
   "mimetype": "text/x-python",
   "name": "python",
   "nbconvert_exporter": "python",
   "pygments_lexer": "ipython3",
   "version": "3.8.3"
  }
 },
 "nbformat": 4,
 "nbformat_minor": 4
}
