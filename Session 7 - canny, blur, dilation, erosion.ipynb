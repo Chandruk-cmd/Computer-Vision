{
 "cells": [
  {
   "cell_type": "code",
   "execution_count": 1,
   "metadata": {},
   "outputs": [],
   "source": [
    "import cv2\n",
    "import numpy as np\n",
    "\n"
   ]
  },
  {
   "cell_type": "code",
   "execution_count": 23,
   "metadata": {},
   "outputs": [],
   "source": [
    "img = cv2.imread('lena.png',1)\n",
    "kernel = np.ones((5,5), np.uint8)\n",
    "imgGray = cv2.cvtColor(img, cv2.COLOR_BGR2GRAY)\n",
    "# bluring the image   ( src, kernelsize (positive & odd), sigma (makes image more smooth) )\n",
    "imgBlur = cv2.GaussianBlur(imgGray,(7,7), 0)\n",
    "# edge detection using carry \n",
    "imgCanny = cv2.Canny(img, 100,200)\n",
    "# to increase the thickness of the edges we need to design a kernel\n",
    "imgDialation = cv2.dilate(imgCanny, None)\n",
    "#imgDialation = cv2.dilate(imgCanny, kernel, iterations = 1 )\n",
    "# to decrease the thickness of the edges we need to use erosion\n",
    "imgEroded = cv2.erode(imgDialation, kernel, iterations = 1)\n",
    "cv2.imshow(\"Gray image\", imgGray)\n",
    "#cv2.imshow(\"Blur image\", imgBlur)\n",
    "#cv2.imshow(\"Canny image\", imgCanny)\n",
    "cv2.imshow(\"dialate image\", imgDialation)\n",
    "#cv2.imshow(\"erode image\", imgEroded)\n",
    "cv2.waitKey(0)\n",
    "cv2.destroyAllWindows()"
   ]
  },
  {
   "cell_type": "code",
   "execution_count": 21,
   "metadata": {},
   "outputs": [],
   "source": [
    "# perspective transform\n",
    "import cv2\n",
    "import numpy as np\n",
    "\n",
    "img = cv2.imread('cards.png',1)\n",
    "width,height = 450, 350 \n",
    "pts1 = np.float32([[162,29],[672,2], [0,254],[543,257]])\n",
    "pts2 = np.float32([[0,0],[width,0], [0,height],[width, height]])\n",
    "matrix = cv2.getPerspectiveTransform(pts1, pts2)\n",
    "imgout = cv2.warpPerspective(img, matrix,(width, height))\n",
    "\n",
    "cv2.imshow(\"image\", img)\n",
    "cv2.imshow(\"Output\", imgout)\n",
    "cv2.waitKey(0)\n",
    "cv2.destroyAllWindows()\n"
   ]
  },
  {
   "cell_type": "code",
   "execution_count": null,
   "metadata": {},
   "outputs": [],
   "source": [
    "#joining images\n",
    "import cv2\n",
    "import numpy as np\n",
    "img = cv2.imread('lena.png')\n",
    "#horizontal\n",
    "imghor  = np.hstack((img, img))\n",
    "#vertical\n",
    "imgver  = np.vstack((img, img))\n",
    "cv2.imshow(\"Output\", imghor)\n",
    "cv2.imshow(\"Output\", imgver)\n",
    "cv2.waitKey(0)\n",
    "cv2.destroyAllWindows()"
   ]
  },
  {
   "cell_type": "code",
   "execution_count": null,
   "metadata": {},
   "outputs": [],
   "source": []
  }
 ],
 "metadata": {
  "kernelspec": {
   "display_name": "Python 3",
   "language": "python",
   "name": "python3"
  },
  "language_info": {
   "codemirror_mode": {
    "name": "ipython",
    "version": 3
   },
   "file_extension": ".py",
   "mimetype": "text/x-python",
   "name": "python",
   "nbconvert_exporter": "python",
   "pygments_lexer": "ipython3",
   "version": "3.8.3"
  }
 },
 "nbformat": 4,
 "nbformat_minor": 4
}
