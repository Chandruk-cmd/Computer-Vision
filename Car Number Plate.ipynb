{
 "cells": [
  {
   "cell_type": "code",
   "execution_count": 61,
   "metadata": {},
   "outputs": [],
   "source": [
    "import cv2\n",
    "import pytesseract\n",
    "pytesseract.pytesseract.tesseract_cmd = 'C:\\\\Program Files\\\\Tesseract-OCR\\\\tesseract.exe'"
   ]
  },
  {
   "cell_type": "code",
   "execution_count": 62,
   "metadata": {},
   "outputs": [],
   "source": [
    "#read the image file\n",
    "image = cv2.imread('car3.png')"
   ]
  },
  {
   "cell_type": "code",
   "execution_count": 63,
   "metadata": {},
   "outputs": [
    {
     "data": {
      "text/plain": [
       "-1"
      ]
     },
     "execution_count": 63,
     "metadata": {},
     "output_type": "execute_result"
    }
   ],
   "source": [
    "cv2.imshow('image', image)\n",
    "cv2.waitKey(0)"
   ]
  },
  {
   "cell_type": "code",
   "execution_count": 64,
   "metadata": {},
   "outputs": [],
   "source": [
    "#convert to grayscalse\n",
    "gray_image = cv2.cvtColor(image,cv2.COLOR_BGR2GRAY)\n",
    "\n",
    "gray_image= cv2.bilateralFilter(gray_image, 11, 17, 17)\n",
    "#Canny Edge Detection\n",
    "canny_edge = cv2.Canny(gray_image, 170,200)\n",
    "canny_edge = canny_edge.copy()"
   ]
  },
  {
   "cell_type": "code",
   "execution_count": 65,
   "metadata": {},
   "outputs": [
    {
     "data": {
      "text/plain": [
       "-1"
      ]
     },
     "execution_count": 65,
     "metadata": {},
     "output_type": "execute_result"
    }
   ],
   "source": [
    "cv2.imshow('gray', gray_image)\n",
    "cv2.imshow('canny', canny_edge)\n",
    "cv2.waitKey(0)"
   ]
  },
  {
   "cell_type": "code",
   "execution_count": 66,
   "metadata": {},
   "outputs": [],
   "source": [
    "\n",
    "#Find contours\n",
    "contours, new = cv2.findContours(canny_edge,cv2.RETR_LIST, cv2.CHAIN_APPROX_SIMPLE)\n",
    "contours=sorted(contours, key=cv2.contourArea, reverse=True)[:30]\n",
    "\n",
    "#initialize licence Plage contour and x,y coordinates\n",
    "contour_with_license_plate = None\n",
    "license_plate=None\n",
    "x=None\n",
    "y=None\n",
    "w=None\n",
    "h=None\n",
    "# Find the contour with 4 potential corners and create ROI around it\n",
    "for contour in contours:\n",
    "    #Find perimeter of contour and it should be a close contour\n",
    "        perimeter=cv2.arcLength(contour,True)\n",
    "        approx = cv2.approxPolyDP(contour,0.02*perimeter, True) # matching with shapes & True - closed contour\n",
    "        if len(approx) ==4:  #see whether it is a rect\n",
    "            contour_with_license_plate=approx\n",
    "            x,y,w,h = cv2.boundingRect(contour)\n",
    "            license_plate = gray_image[y:y+h, x:x+w]\n",
    "            break\n",
    "            \n"
   ]
  },
  {
   "cell_type": "code",
   "execution_count": 67,
   "metadata": {},
   "outputs": [
    {
     "data": {
      "text/plain": [
       "-1"
      ]
     },
     "execution_count": 67,
     "metadata": {},
     "output_type": "execute_result"
    }
   ],
   "source": [
    "cv2.imshow('License Plate', license_plate)\n",
    "cv2.waitKey(0)"
   ]
  },
  {
   "cell_type": "code",
   "execution_count": 68,
   "metadata": {},
   "outputs": [],
   "source": [
    "#Removing Noise from the detected image, before sending to Tesseract\n",
    "#licenseplate \n",
    "(thresh, licenseplate)= cv2.threshold(license_plate, 100, 150,cv2.THRESH_BINARY)"
   ]
  },
  {
   "cell_type": "code",
   "execution_count": 69,
   "metadata": {},
   "outputs": [
    {
     "name": "stdout",
     "output_type": "stream",
     "text": [
      "License Plate:  \n",
      "\n",
      " \n",
      "\n",
      "=DL3C AM0857)\n",
      "— er\n",
      "\n",
      " \n",
      "\f",
      "\n"
     ]
    },
    {
     "data": {
      "text/plain": [
       "-1"
      ]
     },
     "execution_count": 69,
     "metadata": {},
     "output_type": "execute_result"
    }
   ],
   "source": [
    "#Text Recognition\n",
    "text = pytesseract.image_to_string(license_plate)\n",
    "\n",
    "#Draw License Plate and write the text\n",
    "image = cv2.rectangle(image,(x,y),(x+w,y+h), (0,0,255), 2)\n",
    "image = cv2.putText(image, text, (x-100, y-50), cv2.FONT_HERSHEY_SIMPLEX, 1, (0,255,0),3, cv2.LINE_AA)\n",
    "\n",
    "print(\"License Plate:\", text)\n",
    "\n",
    "cv2.imshow(\"License Plate Detection\", image)\n",
    "cv2.waitKey(0)"
   ]
  },
  {
   "cell_type": "code",
   "execution_count": null,
   "metadata": {},
   "outputs": [],
   "source": []
  }
 ],
 "metadata": {
  "kernelspec": {
   "display_name": "Python 3",
   "language": "python",
   "name": "python3"
  },
  "language_info": {
   "codemirror_mode": {
    "name": "ipython",
    "version": 3
   },
   "file_extension": ".py",
   "mimetype": "text/x-python",
   "name": "python",
   "nbconvert_exporter": "python",
   "pygments_lexer": "ipython3",
   "version": "3.8.3"
  }
 },
 "nbformat": 4,
 "nbformat_minor": 4
}
