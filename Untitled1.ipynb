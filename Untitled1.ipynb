{
 "cells": [
  {
   "cell_type": "code",
   "execution_count": 9,
   "metadata": {},
   "outputs": [
    {
     "name": "stdout",
     "output_type": "stream",
     "text": [
      " Camera matrix:\n",
      "[[468.9327182    0.         320.21755143]\n",
      " [  0.         469.53814111 363.16468077]\n",
      " [  0.           0.           1.        ]]\n",
      "\n",
      " Distortion coefficient:\n",
      "[[ 0.37103935  0.6388775   0.01771608 -0.4285468  -2.62931892]]\n",
      "\n",
      " Rotation Vectors:\n",
      "[array([[0.28539453],\n",
      "       [0.64413046],\n",
      "       [1.56444975]]), array([[-1.56228413],\n",
      "       [-1.31760981],\n",
      "       [ 2.21362894]]), array([[-0.17947382],\n",
      "       [ 0.58380251],\n",
      "       [ 0.04966162]])]\n",
      "\n",
      " Translation Vectors:\n",
      "[array([[ -4.50499009],\n",
      "       [-16.66686293],\n",
      "       [ 28.53407522]]), array([[ -9.96273629],\n",
      "       [-12.6973103 ],\n",
      "       [ 36.87598824]]), array([[-11.37479093],\n",
      "       [-17.66742263],\n",
      "       [ 34.52225405]])]\n"
     ]
    }
   ],
   "source": [
    "# Import required modules \n",
    "import cv2 \n",
    "import numpy as np \n",
    "import os \n",
    "import glob \n",
    "  \n",
    "  \n",
    "# Define the dimensions of checkerboard \n",
    "CHECKERBOARD = (6, 9) \n",
    "  \n",
    "  \n",
    "# stop the iteration when specified \n",
    "# accuracy, epsilon, is reached or \n",
    "# specified number of iterations are completed. \n",
    "criteria = (cv2.TERM_CRITERIA_EPS + \n",
    "            cv2.TERM_CRITERIA_MAX_ITER, 30, 0.001) \n",
    "  \n",
    "  \n",
    "# Vector for 3D points \n",
    "threedpoints = [] \n",
    "  \n",
    "# Vector for 2D points \n",
    "twodpoints = [] \n",
    "  \n",
    "  \n",
    "#  3D points real world coordinates \n",
    "objectp3d = np.zeros((1, CHECKERBOARD[0]  \n",
    "                      * CHECKERBOARD[1],  \n",
    "                      3), np.float32) \n",
    "objectp3d[0, :, :2] = np.mgrid[0:CHECKERBOARD[0], \n",
    "                               0:CHECKERBOARD[1]].T.reshape(-1, 2) \n",
    "prev_img_shape = None\n",
    "  \n",
    "  \n",
    "# Extracting path of individual image stored \n",
    "# in a given directory. Since no path is \n",
    "# specified, it will take current directory \n",
    "# jpg files alone \n",
    "images = glob.glob('*.jpg') \n",
    "  \n",
    "for filename in images: \n",
    "    image = cv2.imread(filename) \n",
    "    grayColor = cv2.cvtColor(image, cv2.COLOR_BGR2GRAY) \n",
    "  \n",
    "    # Find the chess board corners \n",
    "    # If desired number of corners are \n",
    "    # found in the image then ret = true \n",
    "    ret, corners = cv2.findChessboardCorners( \n",
    "                    grayColor, CHECKERBOARD,  \n",
    "                    cv2.CALIB_CB_ADAPTIVE_THRESH  \n",
    "                    + cv2.CALIB_CB_FAST_CHECK + \n",
    "                    cv2.CALIB_CB_NORMALIZE_IMAGE) \n",
    "  \n",
    "    # If desired number of corners can be detected then, \n",
    "    # refine the pixel coordinates and display \n",
    "    # them on the images of checker board \n",
    "    if ret == True: \n",
    "        threedpoints.append(objectp3d) \n",
    "  \n",
    "        # Refining pixel coordinates \n",
    "        # for given 2d points. \n",
    "        corners2 = cv2.cornerSubPix( \n",
    "            grayColor, corners, (11, 11), (-1, -1), criteria) \n",
    "  \n",
    "        twodpoints.append(corners2) \n",
    "  \n",
    "        # Draw and display the corners \n",
    "        image = cv2.drawChessboardCorners(image,  \n",
    "                                          CHECKERBOARD,  \n",
    "                                          corners2, ret) \n",
    "  \n",
    "    cv2.imshow('img', image) \n",
    "    cv2.waitKey(0) \n",
    "  \n",
    "cv2.destroyAllWindows() \n",
    "  \n",
    "h, w = image.shape[:2] \n",
    "  \n",
    "  \n",
    "# Perform camera calibration by \n",
    "# passing the value of above found out 3D points (threedpoints) \n",
    "# and its corresponding pixel coordinates of the \n",
    "# detected corners (twodpoints) \n",
    "ret, matrix, distortion, r_vecs, t_vecs = cv2.calibrateCamera( \n",
    "    threedpoints, twodpoints, grayColor.shape[::-1], None, None) \n",
    "  \n",
    "  \n",
    "# Displayig required output \n",
    "print(\" Camera matrix:\") \n",
    "print(matrix) \n",
    "  \n",
    "print(\"\\n Distortion coefficient:\") \n",
    "print(distortion) \n",
    "  \n",
    "print(\"\\n Rotation Vectors:\") \n",
    "print(r_vecs) \n",
    "  \n",
    "print(\"\\n Translation Vectors:\") \n",
    "print(t_vecs) "
   ]
  },
  {
   "cell_type": "code",
   "execution_count": 7,
   "metadata": {},
   "outputs": [],
   "source": [
    "# Import required modules \n",
    "import cv2 \n",
    "import numpy as np \n",
    "import os \n",
    "import glob \n",
    "  \n",
    "  \n",
    "# Define the dimensions of checkerboard \n",
    "CHECKERBOARD = (6, 9) \n",
    "  \n",
    "  \n",
    "# stop the iteration when specified \n",
    "# accuracy, epsilon, is reached or \n",
    "# specified number of iterations are completed. \n",
    "criteria = (cv2.TERM_CRITERIA_EPS + \n",
    "            cv2.TERM_CRITERIA_MAX_ITER, 30, 0.001) \n",
    "  \n",
    "  \n",
    "# Vector for 3D points \n",
    "threedpoints = [] \n",
    "  \n",
    "# Vector for 2D points \n",
    "twodpoints = [] \n",
    "  \n",
    "  \n",
    "#  3D points real world coordinates \n",
    "objectp3d = np.zeros((1, CHECKERBOARD[0]  \n",
    "                      * CHECKERBOARD[1],  \n",
    "                      3), np.float32) \n",
    "objectp3d[0, :, :2] = np.mgrid[0:CHECKERBOARD[0], \n",
    "                               0:CHECKERBOARD[1]].T.reshape(-1, 2) \n",
    "prev_img_shape = None"
   ]
  },
  {
   "cell_type": "code",
   "execution_count": 8,
   "metadata": {},
   "outputs": [
    {
     "name": "stderr",
     "output_type": "stream",
     "text": [
      "Clipping input data to the valid range for imshow with RGB data ([0..1] for floats or [0..255] for integers).\n"
     ]
    },
    {
     "data": {
      "text/plain": [
       "<matplotlib.image.AxesImage at 0x1fb2b9191f0>"
      ]
     },
     "execution_count": 8,
     "metadata": {},
     "output_type": "execute_result"
    },
    {
     "data": {
      "image/png": "[encoded data removed]",
      "text/plain": [
       "<Figure size 432x288 with 1 Axes>"
      ]
     },
     "metadata": {
      "needs_background": "light"
     },
     "output_type": "display_data"
    }
   ],
   "source": [
    "plt.imshow(objectp3d)"
   ]
  },
  {
   "cell_type": "code",
   "execution_count": null,
   "metadata": {},
   "outputs": [],
   "source": []
  }
 ],
 "metadata": {
  "kernelspec": {
   "display_name": "Python 3",
   "language": "python",
   "name": "python3"
  },
  "language_info": {
   "codemirror_mode": {
    "name": "ipython",
    "version": 3
   },
   "file_extension": ".py",
   "mimetype": "text/x-python",
   "name": "python",
   "nbconvert_exporter": "python",
   "pygments_lexer": "ipython3",
   "version": "3.8.3"
  }
 },
 "nbformat": 4,
 "nbformat_minor": 4
}
